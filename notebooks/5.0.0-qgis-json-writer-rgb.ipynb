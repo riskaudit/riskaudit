{
 "cells": [
  {
   "cell_type": "code",
   "execution_count": 21,
   "metadata": {},
   "outputs": [],
   "source": [
    "import json\n",
    "from os import listdir\n",
    "from os.path import isfile, join\n",
    " \n",
    " # ascending\n",
    "# input_path = \"E:/riskaudit/raw/Sentinel1/images/phlqc/ascending\"\n",
    "# output_path = \"C:/Users/admin/Desktop/GitHub/riskaudit/data/raw/Sentinel1/phlqc/ascending\"\n",
    "# output_jsonfilename = \"C:/Users/admin/Desktop/GitHub/riskaudit/notebooks/sentinel1_phlqc_ascending_clipped.json\"\n",
    "\n",
    " # descending\n",
    "# input_path = \"E:/riskaudit/raw/Sentinel1/images/phlqc/descending\"\n",
    "# output_path = \"C:/Users/admin/Desktop/GitHub/riskaudit/data/raw/Sentinel1/phlqc/descending\"\n",
    "# output_jsonfilename = \"C:/Users/admin/Desktop/GitHub/riskaudit/notebooks/sentinel1_phlqc_descending_clipped.json\"\n",
    "\n",
    "# google earth pro\n",
    "input_path = r\"C:/Users/admin/Desktop/GitHub/riskaudit/data/obsvariables/GOOGLE_EARTH/clipped\"\n",
    "output_path = r\"C:/Users/admin/Desktop/GitHub/riskaudit/data/obsvariables/GOOGLE_EARTH/rgb\"\n",
    "output_jsonfilename = r\"C:/Users/admin/Desktop/GitHub/riskaudit/notebooks//5.0.1-qgis-split-rgb-google-earth-pro-phlqc.json\"\n",
    "\n",
    "onlyfiles = [f for f in listdir(input_path) if isfile(join(input_path, f))]"
   ]
  },
  {
   "cell_type": "code",
   "execution_count": 22,
   "metadata": {},
   "outputs": [],
   "source": [
    "# initialize dictionary\n",
    "dictionary = {\n",
    "        \"PARAMETERS\": \n",
    "            {\"input\": \"'C:/Users/admin/Desktop/GitHub/riskaudit/data/obsvariables/GOOGLE_EARTH/clipped/PHLQC_2010_ALL_zoom_20_clipped.tif'\", \n",
    "            \"GRASS_REGION_PARAMETER\": \"None\", \n",
    "            \"GRASS_REGION_CELLSIZE_PARAMETER\": \"0\", \n",
    "            \"GRASS_RASTER_FORMAT_OPT\": \"''\", \n",
    "            \"GRASS_RASTER_FORMAT_META\": \"''\"}, \n",
    "            \"OUTPUTS\": \n",
    "            {\"red\": \"C:/Users/admin/Desktop/GitHub/riskaudit/data/obsvariables/GOOGLE_EARTH/rgb/r.tif\", \n",
    "            \"green\": \"C:/Users/admin/Desktop/GitHub/riskaudit/data/obsvariables/GOOGLE_EARTH/rgb/r.tif\", \n",
    "            \"blue\": \"C:/Users/admin/Desktop/GitHub/riskaudit/data/obsvariables/GOOGLE_EARTH/rgb/r.tif\"}\n",
    "    }"
   ]
  },
  {
   "cell_type": "code",
   "execution_count": 23,
   "metadata": {},
   "outputs": [],
   "source": [
    "# Writing to sample.json\n",
    "with open(output_jsonfilename, \"w\") as outfile:\n",
    "    for j in range(len(onlyfiles)):\n",
    "        dictionary[\"PARAMETERS\"][\"input\"] = '\"' + input_path + \"/\" + onlyfiles[j] + '\"'\n",
    "        dictionary[\"OUTPUTS\"][\"red\"] = output_path + \"/\" + onlyfiles[j][:-4] + \"_r.tif\"\n",
    "        dictionary[\"OUTPUTS\"][\"green\"] = output_path + \"/\" + onlyfiles[j][:-4] + \"_g.tif\"\n",
    "        dictionary[\"OUTPUTS\"][\"blue\"] = output_path + \"/\" + onlyfiles[j][:-4] + \"_b.tif\"\n",
    "        json_object = json.dumps(dictionary, indent=4)\n",
    "        outfile.write(json_object)"
   ]
  },
  {
   "cell_type": "code",
   "execution_count": 24,
   "metadata": {},
   "outputs": [],
   "source": [
    "# Fix to make a valid json file\n",
    "def comma_json():\n",
    "    with open(output_jsonfilename, \"r+\") as f:\n",
    "        old = f.read()\n",
    "        f.seek(0)  # rewind\n",
    "        f.write(old.replace('}{', '},{'))\n",
    "        f.close\n",
    "def structure_json():\n",
    "    with open(output_jsonfilename, \"r+\") as f:\n",
    "        old = f.read()\n",
    "    with open(output_jsonfilename, \"w\") as r:\n",
    "        tmps = '[' + str(old) + ']'\n",
    "        json_string = json.loads(tmps)\n",
    "        json.dump(json_string, r, indent=2)\n",
    "        f.close\n",
    "comma_json()\n",
    "structure_json()"
   ]
  }
 ],
 "metadata": {
  "kernelspec": {
   "display_name": "Python 3",
   "language": "python",
   "name": "python3"
  },
  "language_info": {
   "codemirror_mode": {
    "name": "ipython",
    "version": 3
   },
   "file_extension": ".py",
   "mimetype": "text/x-python",
   "name": "python",
   "nbconvert_exporter": "python",
   "pygments_lexer": "ipython3",
   "version": "3.11.6"
  }
 },
 "nbformat": 4,
 "nbformat_minor": 2
}
