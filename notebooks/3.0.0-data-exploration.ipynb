{
 "cells": [
  {
   "cell_type": "code",
   "execution_count": 1,
   "metadata": {},
   "outputs": [],
   "source": [
    "# install packages\n",
    "import rasterio\n",
    "from rasterio.mask import mask\n",
    "import geopandas as gpd\n",
    "from osgeo import gdal\n",
    "from osgeo import ogr\n",
    "from osgeo import gdalconst"
   ]
  },
  {
   "cell_type": "code",
   "execution_count": 2,
   "metadata": {},
   "outputs": [
    {
     "data": {
      "text/plain": [
       "'c:\\\\Users\\\\admin\\\\Desktop\\\\GitHub\\\\riskaudit\\\\notebooks'"
      ]
     },
     "execution_count": 2,
     "metadata": {},
     "output_type": "execute_result"
    }
   ],
   "source": [
    "import os\n",
    "os.getcwd()"
   ]
  },
  {
   "cell_type": "code",
   "execution_count": null,
   "metadata": {},
   "outputs": [],
   "source": [
    "shp_fn =  r\"C:\\Users\\admin\\Desktop\\GitHub\\riskaudit\\data\\groundtruth\\PHL_QC_EMI_AUGUST2022\\barangay_boundary\\NAME_V2_North Fair.gpkg\"\n",
    "\n",
    "\n",
    "# open shapefile and corresponding raster\n",
    "data = gdal.Open(sar_fn, gdalconst.GA_ReadOnly)\n",
    "dataArray = data.ReadAsArray()\n",
    "\n",
    "# hardcode output coordinate ref system\n",
    "epsgOut = 4326\n",
    "\n",
    "# Get coordinate information for input raster\n",
    "# x_min/x_max, y_min/y_max correspond to bounding box of image\n",
    "# x and y res are the verticle and horizontal spatial resolutions\n",
    "geo_transform = data.GetGeoTransform()\n",
    "x_min = geo_transform[0]\n",
    "y_max = geo_transform[3]\n",
    "x_max = x_min + geo_transform[1] * data.RasterXSize\n",
    "y_min = y_max + geo_transform[5] * data.RasterYSize\n",
    "x_res = data.RasterXSize\n",
    "y_res = data.RasterYSize\n",
    "pixel_width = geo_transform[1]\n",
    "\n",
    "# Open shapefile in geopandas\n",
    "dataShp = geopandas.read_file(shp_fn)\n",
    "# change CRS from polygon to raster file\n",
    "dataShp = dataShp.to_crs(epsg=epsgOut)\n",
    "# convert geopandas into ogr Datasource\n",
    "shp_temp = ogr.Open(dataShp.to_json())\n",
    "# extract layer from ogr Datasource\n",
    "mb_l = shp_temp.GetLayer()\n",
    "\n",
    "# create dataset as geotiff\n",
    "target_ds = gdal.GetDriverByName('GTiff').Create(\n",
    "    output, x_res, y_res, 1, gdal.GDT_Byte)\n",
    "# attach geo information to dataset, e.g. resolution and projection\n",
    "target_ds.SetGeoTransform(\n",
    "    (x_min, pixel_width, 0, y_min, 0, pixel_width))\n",
    "band = target_ds.GetRasterBand(1)\n",
    "NoData_value = 100\n",
    "band.SetNoDataValue(NoData_value)\n",
    "band.FlushCache()\n",
    "# Need to change the value after 'ATTRIBUTE=\". This corresponds to the field (column)\n",
    "# in the shapefile's attribute table in QGIS that you want to use.\n",
    "gdal.RasterizeLayer(target_ds, [1], mb_l, options=[\"ATTRIBUTE=CT\"])\n",
    "\n",
    "# important to do this to prevent errors coming up\n",
    "target_ds = None\n"
   ]
  },
  {
   "cell_type": "code",
   "execution_count": 20,
   "metadata": {},
   "outputs": [],
   "source": [
    "# read barangay extent\n",
    "brgy_path = r\"C:\\Users\\admin\\Desktop\\GitHub\\riskaudit\\data\\groundtruth\\PHL_QC_EMI_AUGUST2022\\barangay_boundary\\NAME_V2_North Fair.gpkg\"\n",
    "brgy = gpd.read_file(brgy_path)\n"
   ]
  },
  {
   "cell_type": "code",
   "execution_count": null,
   "metadata": {},
   "outputs": [],
   "source": []
  }
 ],
 "metadata": {
  "kernelspec": {
   "display_name": "Python 3",
   "language": "python",
   "name": "python3"
  },
  "language_info": {
   "codemirror_mode": {
    "name": "ipython",
    "version": 3
   },
   "file_extension": ".py",
   "mimetype": "text/x-python",
   "name": "python",
   "nbconvert_exporter": "python",
   "pygments_lexer": "ipython3",
   "version": "3.11.6"
  }
 },
 "nbformat": 4,
 "nbformat_minor": 2
}
