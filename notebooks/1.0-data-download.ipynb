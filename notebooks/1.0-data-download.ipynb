{
 "cells": [
  {
   "cell_type": "markdown",
   "metadata": {},
   "source": [
    "# Data Download\n",
    "Date Created: 2023-10-31"
   ]
  },
  {
   "cell_type": "code",
   "execution_count": 1,
   "metadata": {},
   "outputs": [
    {
     "data": {
      "text/html": [
       "<p>To authorize access needed by Earth Engine, open the following\n",
       "        URL in a web browser and follow the instructions:</p>\n",
       "        <p><a href=https://code.earthengine.google.com/client-auth?scopes=https%3A//www.googleapis.com/auth/earthengine%20https%3A//www.googleapis.com/auth/devstorage.full_control&request_id=AYfI_DLc8FsN2cD95O6Rkk-saSXkqJbt4MfQAfogAxs&tc=qlQBJ_8z5xF7G7uFho1tmnx8_SmsKvQtzP85CvZE7FM&cc=YdUJoVeUK9USkhsLMgvGUqmPFVmck9yvFysvpQa5oxE>https://code.earthengine.google.com/client-auth?scopes=https%3A//www.googleapis.com/auth/earthengine%20https%3A//www.googleapis.com/auth/devstorage.full_control&request_id=AYfI_DLc8FsN2cD95O6Rkk-saSXkqJbt4MfQAfogAxs&tc=qlQBJ_8z5xF7G7uFho1tmnx8_SmsKvQtzP85CvZE7FM&cc=YdUJoVeUK9USkhsLMgvGUqmPFVmck9yvFysvpQa5oxE</a></p>\n",
       "        <p>The authorization workflow will generate a code, which you should paste in the box below.</p>\n",
       "        "
      ],
      "text/plain": [
       "<IPython.core.display.HTML object>"
      ]
     },
     "metadata": {},
     "output_type": "display_data"
    },
    {
     "name": "stdout",
     "output_type": "stream",
     "text": [
      "\n",
      "Successfully saved authorization token.\n"
     ]
    }
   ],
   "source": [
    "import ee\n",
    "\n",
    "# Trigger the authentication flow.\n",
    "ee.Authenticate()\n",
    "\n",
    "# Initialize the library.\n",
    "ee.Initialize()"
   ]
  },
  {
   "cell_type": "code",
   "execution_count": 2,
   "metadata": {},
   "outputs": [],
   "source": [
    "import geemap"
   ]
  },
  {
   "cell_type": "markdown",
   "metadata": {},
   "source": [
    "## [Dynamic World V1](https://developers.google.com/earth-engine/datasets/catalog/GOOGLE_DYNAMICWORLD_V1)"
   ]
  },
  {
   "cell_type": "code",
   "execution_count": 5,
   "metadata": {},
   "outputs": [
    {
     "data": {
      "text/html": [
       "\n",
       "            <style>\n",
       "                .geemap-dark {\n",
       "                    --jp-widgets-color: white;\n",
       "                    --jp-widgets-label-color: white;\n",
       "                    --jp-ui-font-color1: white;\n",
       "                    --jp-layout-color2: #454545;\n",
       "                    background-color: #383838;\n",
       "                }\n",
       "                    \n",
       "                .geemap-dark .jupyter-button {\n",
       "                    --jp-layout-color3: #383838;\n",
       "                }\n",
       "                \n",
       "                .geemap-colab {\n",
       "                    background-color: var(--colab-primary-surface-color, white);\n",
       "                }\n",
       "                    \n",
       "                .geemap-colab .jupyter-button {\n",
       "                    --jp-layout-color3: var(--colab-primary-surface-color, white);\n",
       "                }\n",
       "            </style>\n",
       "            "
      ],
      "text/plain": [
       "<IPython.core.display.HTML object>"
      ]
     },
     "metadata": {},
     "output_type": "display_data"
    },
    {
     "data": {
      "application/vnd.jupyter.widget-view+json": {
       "model_id": "7ecb57b3078e4fd1b2de9ca20e014536",
       "version_major": 2,
       "version_minor": 0
      },
      "text/plain": [
       "Map(center=[14.676, 121.0437], controls=(WidgetControl(options=['position', 'transparent_bg'], widget=SearchDa…"
      ]
     },
     "execution_count": 5,
     "metadata": {},
     "output_type": "execute_result"
    }
   ],
   "source": [
    "# Construct a collection of corresponding Dynamic World and Sentinel-2 for\n",
    "# inspection. Filter the DW and S2 collections by region and date.\n",
    "START = ee.Date('2021-04-02')\n",
    "END = START.advance(100, 'day')\n",
    "\n",
    "col_filter = ee.Filter.And(\n",
    "    ee.Filter.bounds(ee.Geometry.Point(121.0437, 14.6760)),\n",
    "    ee.Filter.date(START, END),\n",
    ")\n",
    "\n",
    "dw_col = ee.ImageCollection('GOOGLE/DYNAMICWORLD/V1').filter(col_filter)\n",
    "s2_col = ee.ImageCollection('COPERNICUS/S2').filter(col_filter)\n",
    "\n",
    "# Join corresponding DW and S2 images (by system:index).\n",
    "dw_s2_col = ee.Join.saveFirst('s2_img').apply(\n",
    "    dw_col,\n",
    "    s2_col,\n",
    "    ee.Filter.equals(leftField='system:index', rightField='system:index'),\n",
    ")\n",
    "\n",
    "# Extract an example DW image and its source S2 image.\n",
    "dw_image = ee.Image(dw_s2_col.first())\n",
    "s2_image = ee.Image(dw_image.get('s2_img'))\n",
    "\n",
    "# Create a visualization that blends DW class label with probability.\n",
    "# Define list pairs of DW LULC label and color.\n",
    "CLASS_NAMES = [\n",
    "    'water',\n",
    "    'trees',\n",
    "    'grass',\n",
    "    'flooded_vegetation',\n",
    "    'crops',\n",
    "    'shrub_and_scrub',\n",
    "    'built',\n",
    "    'bare',\n",
    "    'snow_and_ice',\n",
    "]\n",
    "\n",
    "VIS_PALETTE = [\n",
    "    '419bdf',\n",
    "    '397d49',\n",
    "    '88b053',\n",
    "    '7a87c6',\n",
    "    'e49635',\n",
    "    'dfc35a',\n",
    "    'c4281b',\n",
    "    'a59b8f',\n",
    "    'b39fe1',\n",
    "]\n",
    "\n",
    "# Create an RGB image of the label (most likely class) on [0, 1].\n",
    "dw_rgb = (\n",
    "    dw_image.select('label')\n",
    "    .visualize(min=0, max=8, palette=VIS_PALETTE)\n",
    "    .divide(255)\n",
    ")\n",
    "\n",
    "# Get the most likely class probability.\n",
    "top1_prob = dw_image.select(CLASS_NAMES).reduce(ee.Reducer.max())\n",
    "\n",
    "# Create a hillshade of the most likely class probability on [0, 1]\n",
    "top1_prob_hillshade = ee.Terrain.hillshade(top1_prob.multiply(100)).divide(255)\n",
    "\n",
    "# Combine the RGB image with the hillshade.\n",
    "dw_rgb_hillshade = dw_rgb.multiply(top1_prob_hillshade)\n",
    "\n",
    "# Display the Dynamic World visualization with the source Sentinel-2 image.\n",
    "m = geemap.Map()\n",
    "m.set_center(121.0437, 14.6760, 12)\n",
    "m.add_layer(\n",
    "    s2_image,\n",
    "    {'min': 0, 'max': 3000, 'bands': ['B4', 'B3', 'B2']},\n",
    "    'Sentinel-2 L1C',\n",
    ")\n",
    "m.add_layer(\n",
    "    dw_rgb_hillshade,\n",
    "    {'min': 0, 'max': 0.65},\n",
    "    'Dynamic World V1 - label hillshade',\n",
    ")\n",
    "m"
   ]
  },
  {
   "cell_type": "markdown",
   "metadata": {},
   "source": [
    "## [Sentinel-1 SAR GRD: C-band Synthetic Aperture Radar](https://developers.google.com/earth-engine/datasets/catalog/COPERNICUS_S1_GRD)"
   ]
  },
  {
   "cell_type": "code",
   "execution_count": 33,
   "metadata": {},
   "outputs": [
    {
     "data": {
      "text/html": [
       "<p>To authorize access needed by Earth Engine, open the following\n",
       "        URL in a web browser and follow the instructions:</p>\n",
       "        <p><a href=https://code.earthengine.google.com/client-auth?scopes=https%3A//www.googleapis.com/auth/earthengine%20https%3A//www.googleapis.com/auth/devstorage.full_control&request_id=zET4gmTJDlPVvUXzGSrCIRu3Ili7OA-dl6VF6qBQHrY&tc=_TCN9d4vmtkQRP48Z4sd0vXbdUtIQC8mEPZ4DnXj8sg&cc=Wb4HWAkvZQp0rR4WS-_VMCGSrYi2rmdGJ8ThCjVT_8M>https://code.earthengine.google.com/client-auth?scopes=https%3A//www.googleapis.com/auth/earthengine%20https%3A//www.googleapis.com/auth/devstorage.full_control&request_id=zET4gmTJDlPVvUXzGSrCIRu3Ili7OA-dl6VF6qBQHrY&tc=_TCN9d4vmtkQRP48Z4sd0vXbdUtIQC8mEPZ4DnXj8sg&cc=Wb4HWAkvZQp0rR4WS-_VMCGSrYi2rmdGJ8ThCjVT_8M</a></p>\n",
       "        <p>The authorization workflow will generate a code, which you should paste in the box below.</p>\n",
       "        "
      ],
      "text/plain": [
       "<IPython.core.display.HTML object>"
      ]
     },
     "metadata": {},
     "output_type": "display_data"
    },
    {
     "name": "stdout",
     "output_type": "stream",
     "text": [
      "\n",
      "Successfully saved authorization token.\n"
     ]
    }
   ],
   "source": [
    "import ee\n",
    "\n",
    "# Trigger the authentication flow.\n",
    "ee.Authenticate()\n",
    "\n",
    "# Initialize the library.\n",
    "ee.Initialize()"
   ]
  },
  {
   "cell_type": "code",
   "execution_count": 34,
   "metadata": {},
   "outputs": [],
   "source": [
    "import geemap"
   ]
  },
  {
   "cell_type": "code",
   "execution_count": 35,
   "metadata": {},
   "outputs": [
    {
     "data": {
      "text/html": [
       "\n",
       "            <style>\n",
       "                .geemap-dark {\n",
       "                    --jp-widgets-color: white;\n",
       "                    --jp-widgets-label-color: white;\n",
       "                    --jp-ui-font-color1: white;\n",
       "                    --jp-layout-color2: #454545;\n",
       "                    background-color: #383838;\n",
       "                }\n",
       "                    \n",
       "                .geemap-dark .jupyter-button {\n",
       "                    --jp-layout-color3: #383838;\n",
       "                }\n",
       "                \n",
       "                .geemap-colab {\n",
       "                    background-color: var(--colab-primary-surface-color, white);\n",
       "                }\n",
       "                    \n",
       "                .geemap-colab .jupyter-button {\n",
       "                    --jp-layout-color3: var(--colab-primary-surface-color, white);\n",
       "                }\n",
       "            </style>\n",
       "            "
      ],
      "text/plain": [
       "<IPython.core.display.HTML object>"
      ]
     },
     "metadata": {},
     "output_type": "display_data"
    }
   ],
   "source": [
    "import matplotlib.pyplot as plt\n",
    "import numpy as np\n",
    "from scipy.stats import norm, gamma, f, chi2\n",
    "import pandas as pd\n",
    "import IPython.display as disp\n",
    "import json\n",
    "import csv \n",
    "import os\n",
    "import datetime\n",
    "import requests\n",
    "from datetime import datetime\n",
    "from datetime import timedelta\n",
    "import time\n",
    "%matplotlib inline"
   ]
  },
  {
   "cell_type": "code",
   "execution_count": 36,
   "metadata": {},
   "outputs": [
    {
     "data": {
      "text/html": [
       "\n",
       "            <style>\n",
       "                .geemap-dark {\n",
       "                    --jp-widgets-color: white;\n",
       "                    --jp-widgets-label-color: white;\n",
       "                    --jp-ui-font-color1: white;\n",
       "                    --jp-layout-color2: #454545;\n",
       "                    background-color: #383838;\n",
       "                }\n",
       "                    \n",
       "                .geemap-dark .jupyter-button {\n",
       "                    --jp-layout-color3: #383838;\n",
       "                }\n",
       "                \n",
       "                .geemap-colab {\n",
       "                    background-color: var(--colab-primary-surface-color, white);\n",
       "                }\n",
       "                    \n",
       "                .geemap-colab .jupyter-button {\n",
       "                    --jp-layout-color3: var(--colab-primary-surface-color, white);\n",
       "                }\n",
       "            </style>\n",
       "            "
      ],
      "text/plain": [
       "<IPython.core.display.HTML object>"
      ]
     },
     "metadata": {},
     "output_type": "display_data"
    }
   ],
   "source": [
    "#create function to download the image or imagecollection as you desire\n",
    "def downloader(ee_object,region): \n",
    "    try:\n",
    "        #download image\n",
    "        if isinstance(ee_object, ee.image.Image):\n",
    "            print('Its Image')\n",
    "            url = ee_object.getDownloadUrl({\n",
    "                    'scale': 10,\n",
    "                    'crs': 'EPSG:4326',\n",
    "                    'region': region\n",
    "                })\n",
    "            return url\n",
    "        \n",
    "        #download imagecollection\n",
    "        elif isinstance(ee_object, ee.imagecollection.ImageCollection):\n",
    "            print('Its ImageCollection')\n",
    "            ee_object_new = ee_object.mosaic()\n",
    "            url = ee_object_new.getDownloadUrl({\n",
    "                    'scale': 10,\n",
    "                    'crs': 'EPSG:4326',\n",
    "                    'region': region\n",
    "                })\n",
    "            return url\n",
    "    except:\n",
    "        print(\"Could not download\")"
   ]
  },
  {
   "cell_type": "code",
   "execution_count": 37,
   "metadata": {},
   "outputs": [
    {
     "data": {
      "text/html": [
       "\n",
       "            <style>\n",
       "                .geemap-dark {\n",
       "                    --jp-widgets-color: white;\n",
       "                    --jp-widgets-label-color: white;\n",
       "                    --jp-ui-font-color1: white;\n",
       "                    --jp-layout-color2: #454545;\n",
       "                    background-color: #383838;\n",
       "                }\n",
       "                    \n",
       "                .geemap-dark .jupyter-button {\n",
       "                    --jp-layout-color3: #383838;\n",
       "                }\n",
       "                \n",
       "                .geemap-colab {\n",
       "                    background-color: var(--colab-primary-surface-color, white);\n",
       "                }\n",
       "                    \n",
       "                .geemap-colab .jupyter-button {\n",
       "                    --jp-layout-color3: var(--colab-primary-surface-color, white);\n",
       "                }\n",
       "            </style>\n",
       "            "
      ],
      "text/plain": [
       "<IPython.core.display.HTML object>"
      ]
     },
     "metadata": {},
     "output_type": "display_data"
    }
   ],
   "source": [
    "def getDATES(aoi, date_event):\n",
    "    \n",
    "    n = 175\n",
    "    output = []\n",
    "    for i in range(1, n+1):\n",
    "        output.append(i)\n",
    "    multiple = 5\n",
    "    \n",
    "    for iend in range(1,100):\n",
    "        # print(iend*multiple)\n",
    "        im_coll = (ee.ImageCollection('COPERNICUS/S1_GRD_FLOAT')\n",
    "                    .filterBounds(aoi)\n",
    "                    .filterDate(ee.Date(date_event+timedelta(days=1)),ee.Date(date_event+timedelta(days=iend*multiple)))\n",
    "                    .filter(ee.Filter.eq('orbitProperties_pass', 'ASCENDING'))\n",
    "                    .filter(ee.Filter.inList('relativeOrbitNumber_start', output))\n",
    "                    .sort('system:time_start'))\n",
    "        acq_times_end = im_coll.aggregate_array('system:time_start').getInfo()\n",
    "        orbitN = im_coll.aggregate_array('relativeOrbitNumber_start').getInfo()\n",
    "        if len(acq_times_end) > 1:\n",
    "            endDATE = datetime.fromtimestamp(mktime(time.gmtime(acq_times_end[0]/1000)))\n",
    "            orbitchosen = orbitN[0]\n",
    "            break\n",
    "    \n",
    "    for istart in range(1,100):\n",
    "        # print(istart*multiple)\n",
    "        im_coll = (ee.ImageCollection('COPERNICUS/S1_GRD_FLOAT')\n",
    "                    .filterBounds(aoi)\n",
    "                    .filterDate(ee.Date(date_event-timedelta(days=istart*multiple)),ee.Date(date_event-timedelta(days=1)))\n",
    "                    .filter(ee.Filter.eq('orbitProperties_pass', 'ASCENDING'))\n",
    "                    .filter(ee.Filter.eq('relativeOrbitNumber_start', orbitchosen))\n",
    "                    .sort('system:time_start'))\n",
    "        acq_times_start = im_coll.aggregate_array('system:time_start').getInfo()\n",
    "        if len(acq_times_start) > 1:\n",
    "            startDATE = datetime.fromtimestamp(mktime(time.gmtime(acq_times_start[-1]/1000)))\n",
    "            break\n",
    "\n",
    "    return startDATE, endDATE, orbitchosen"
   ]
  },
  {
   "cell_type": "code",
   "execution_count": 38,
   "metadata": {},
   "outputs": [
    {
     "data": {
      "text/html": [
       "\n",
       "            <style>\n",
       "                .geemap-dark {\n",
       "                    --jp-widgets-color: white;\n",
       "                    --jp-widgets-label-color: white;\n",
       "                    --jp-ui-font-color1: white;\n",
       "                    --jp-layout-color2: #454545;\n",
       "                    background-color: #383838;\n",
       "                }\n",
       "                    \n",
       "                .geemap-dark .jupyter-button {\n",
       "                    --jp-layout-color3: #383838;\n",
       "                }\n",
       "                \n",
       "                .geemap-colab {\n",
       "                    background-color: var(--colab-primary-surface-color, white);\n",
       "                }\n",
       "                    \n",
       "                .geemap-colab .jupyter-button {\n",
       "                    --jp-layout-color3: var(--colab-primary-surface-color, white);\n",
       "                }\n",
       "            </style>\n",
       "            "
      ],
      "text/plain": [
       "<IPython.core.display.HTML object>"
      ]
     },
     "metadata": {},
     "output_type": "display_data"
    }
   ],
   "source": [
    "def download_url(path, newfile):\n",
    "    t0 = time.time()\n",
    "    url = path\n",
    "    fn = newfile\n",
    "    try:\n",
    "        r = requests.get(url)\n",
    "        with open(fn, 'wb') as f:\n",
    "            f.write(r.content)\n",
    "        return(url, time.time() - t0)\n",
    "    except Exception as e:\n",
    "        print('Exception in download_url():', e)"
   ]
  },
  {
   "cell_type": "code",
   "execution_count": 39,
   "metadata": {},
   "outputs": [
    {
     "data": {
      "text/html": [
       "\n",
       "            <style>\n",
       "                .geemap-dark {\n",
       "                    --jp-widgets-color: white;\n",
       "                    --jp-widgets-label-color: white;\n",
       "                    --jp-ui-font-color1: white;\n",
       "                    --jp-layout-color2: #454545;\n",
       "                    background-color: #383838;\n",
       "                }\n",
       "                    \n",
       "                .geemap-dark .jupyter-button {\n",
       "                    --jp-layout-color3: #383838;\n",
       "                }\n",
       "                \n",
       "                .geemap-colab {\n",
       "                    background-color: var(--colab-primary-surface-color, white);\n",
       "                }\n",
       "                    \n",
       "                .geemap-colab .jupyter-button {\n",
       "                    --jp-layout-color3: var(--colab-primary-surface-color, white);\n",
       "                }\n",
       "            </style>\n",
       "            "
      ],
      "text/plain": [
       "<IPython.core.display.HTML object>"
      ]
     },
     "metadata": {},
     "output_type": "display_data"
    }
   ],
   "source": [
    "t0 = time.time()\n",
    "from datetime import datetime\n",
    "from time import mktime"
   ]
  },
  {
   "cell_type": "code",
   "execution_count": 40,
   "metadata": {},
   "outputs": [
    {
     "data": {
      "text/html": [
       "\n",
       "            <style>\n",
       "                .geemap-dark {\n",
       "                    --jp-widgets-color: white;\n",
       "                    --jp-widgets-label-color: white;\n",
       "                    --jp-ui-font-color1: white;\n",
       "                    --jp-layout-color2: #454545;\n",
       "                    background-color: #383838;\n",
       "                }\n",
       "                    \n",
       "                .geemap-dark .jupyter-button {\n",
       "                    --jp-layout-color3: #383838;\n",
       "                }\n",
       "                \n",
       "                .geemap-colab {\n",
       "                    background-color: var(--colab-primary-surface-color, white);\n",
       "                }\n",
       "                    \n",
       "                .geemap-colab .jupyter-button {\n",
       "                    --jp-layout-color3: var(--colab-primary-surface-color, white);\n",
       "                }\n",
       "            </style>\n",
       "            "
      ],
      "text/plain": [
       "<IPython.core.display.HTML object>"
      ]
     },
     "metadata": {},
     "output_type": "display_data"
    }
   ],
   "source": [
    "geoJSON_path = \"C:\\\\Users\\\\admin\\\\Desktop\\\\GitHub\\\\riskaudit\\\\data\\\\raw\\\\Sentinel1\\\\geojson\"\n",
    "output_path = \"r'C:\\\\Users\\\\admin\\\\Desktop\\\\GitHub\\\\riskaudit\\\\data\\\\raw\\\\Sentinel1\\\\images\"\n",
    "filename = os.listdir(geoJSON_path)[0]"
   ]
  },
  {
   "cell_type": "code",
   "execution_count": 62,
   "metadata": {},
   "outputs": [
    {
     "data": {
      "text/html": [
       "\n",
       "            <style>\n",
       "                .geemap-dark {\n",
       "                    --jp-widgets-color: white;\n",
       "                    --jp-widgets-label-color: white;\n",
       "                    --jp-ui-font-color1: white;\n",
       "                    --jp-layout-color2: #454545;\n",
       "                    background-color: #383838;\n",
       "                }\n",
       "                    \n",
       "                .geemap-dark .jupyter-button {\n",
       "                    --jp-layout-color3: #383838;\n",
       "                }\n",
       "                \n",
       "                .geemap-colab {\n",
       "                    background-color: var(--colab-primary-surface-color, white);\n",
       "                }\n",
       "                    \n",
       "                .geemap-colab .jupyter-button {\n",
       "                    --jp-layout-color3: var(--colab-primary-surface-color, white);\n",
       "                }\n",
       "            </style>\n",
       "            "
      ],
      "text/plain": [
       "<IPython.core.display.HTML object>"
      ]
     },
     "metadata": {},
     "output_type": "display_data"
    },
    {
     "data": {
      "text/plain": [
       "32"
      ]
     },
     "execution_count": 62,
     "metadata": {},
     "output_type": "execute_result"
    }
   ],
   "source": [
    "np.mod(51029-73, 175) + 1"
   ]
  },
  {
   "cell_type": "code",
   "execution_count": 58,
   "metadata": {},
   "outputs": [
    {
     "data": {
      "text/html": [
       "\n",
       "            <style>\n",
       "                .geemap-dark {\n",
       "                    --jp-widgets-color: white;\n",
       "                    --jp-widgets-label-color: white;\n",
       "                    --jp-ui-font-color1: white;\n",
       "                    --jp-layout-color2: #454545;\n",
       "                    background-color: #383838;\n",
       "                }\n",
       "                    \n",
       "                .geemap-dark .jupyter-button {\n",
       "                    --jp-layout-color3: #383838;\n",
       "                }\n",
       "                \n",
       "                .geemap-colab {\n",
       "                    background-color: var(--colab-primary-surface-color, white);\n",
       "                }\n",
       "                    \n",
       "                .geemap-colab .jupyter-button {\n",
       "                    --jp-layout-color3: var(--colab-primary-surface-color, white);\n",
       "                }\n",
       "            </style>\n",
       "            "
      ],
      "text/plain": [
       "<IPython.core.display.HTML object>"
      ]
     },
     "metadata": {},
     "output_type": "display_data"
    },
    {
     "name": "stdout",
     "output_type": "stream",
     "text": [
      "PH_QC.json\n",
      "2015-01-01 00:00:00\n",
      "[1, 2, 3, 4, 5, 6, 7, 8, 9, 10, 11, 12, 13, 14, 15, 16, 17, 18, 19, 20, 21, 22, 23, 24, 25, 26, 27, 28, 29, 30, 31, 32, 33, 34, 35, 36, 37, 38, 39, 40, 41, 42, 43, 44, 45, 46, 47, 48, 49, 50, 51, 52, 53, 54, 55, 56, 57, 58, 59, 60, 61, 62, 63, 64, 65, 66, 67, 68, 69, 70, 71, 72, 73, 74, 75, 76, 77, 78, 79, 80, 81, 82, 83, 84, 85, 86, 87, 88, 89, 90, 91, 92, 93, 94, 95, 96, 97, 98, 99, 100, 101, 102, 103, 104, 105, 106, 107, 108, 109, 110, 111, 112, 113, 114, 115, 116, 117, 118, 119, 120, 121, 122, 123, 124, 125, 126, 127, 128, 129, 130, 131, 132, 133, 134, 135, 136, 137, 138, 139, 140, 141, 142, 143, 144, 145, 146, 147, 148, 149, 150, 151, 152, 153, 154, 155, 156, 157, 158, 159, 160, 161, 162, 163, 164, 165, 166, 167, 168, 169, 170, 171, 172, 173, 174, 175, 176, 177, 178, 179, 180, 181, 182, 183, 184, 185, 186, 187, 188, 189, 190, 191, 192, 193, 194, 195, 196, 197, 198, 199, 200, 201, 202, 203, 204, 205, 206, 207, 208, 209, 210, 211, 212, 213, 214, 215, 216, 217, 218, 219, 220, 221, 222, 223, 224, 225, 226, 227, 228, 229, 230, 231, 232, 233, 234, 235, 236, 237, 238, 239, 240, 241, 242, 243, 244, 245, 246, 247, 248, 249, 250, 251, 252, 253, 254, 255, 256, 257, 258, 259, 260, 261, 262, 263, 264, 265, 266, 267, 268, 269, 270, 271, 272, 273, 274, 275, 276, 277, 278, 279, 280, 281, 282, 283, 284, 285, 286, 287, 288, 289, 290, 291, 292, 293, 294, 295, 296, 297, 298, 299, 300, 301, 302, 303, 304, 305, 306, 307, 308, 309, 310, 311, 312, 313, 314, 315, 316, 317, 318, 319, 320, 321, 322, 323, 324, 325, 326, 327, 328, 329, 330, 331, 332, 333, 334, 335, 336, 337, 338, 339, 340, 341, 342, 343, 344, 345, 346, 347, 348, 349, 350, 351, 352, 353, 354, 355, 356, 357, 358, 359, 360, 361, 362, 363, 364]\n",
      "1\n",
      "2015-01-07 10:06:06\n",
      "142\n"
     ]
    }
   ],
   "source": [
    "print(filename)\n",
    "with open(geoJSON_path+'\\\\'+filename) as fa:\n",
    "    geoJSON = json.load(fa)\n",
    "coords = geoJSON['features'][0]['geometry']['coordinates']\n",
    "aoi = ee.Geometry.Polygon(coords)\n",
    "date_event = datetime(2015, 1, 1)\n",
    "print(date_event)\n",
    "\n",
    "output = []\n",
    "for i in range(1, 365):\n",
    "    output.append(i)\n",
    "print(output)\n",
    "multiple = 73\n",
    "\n",
    "for iend in range(1,6):\n",
    "    print(iend)\n",
    "    im_coll = (ee.ImageCollection('COPERNICUS/S1_GRD_FLOAT')\n",
    "                .filterBounds(aoi)\n",
    "                .filterDate(ee.Date(date_event),ee.Date(date_event+timedelta(days=iend*multiple)))\n",
    "                .filter(ee.Filter.eq('orbitProperties_pass', 'ASCENDING'))\n",
    "                .filter(ee.Filter.inList('relativeOrbitNumber_start', output))\n",
    "                .sort('system:time_start'))\n",
    "    acq_times_end = im_coll.aggregate_array('system:time_start').getInfo()\n",
    "    orbitN = im_coll.aggregate_array('relativeOrbitNumber_start').getInfo()\n",
    "    if len(acq_times_end) > 1:\n",
    "        endDATE = datetime.fromtimestamp(mktime(time.gmtime(acq_times_end[0]/1000)))\n",
    "        orbitchosen = orbitN[0]\n",
    "        break\n",
    "print(endDATE)\n",
    "print(orbitchosen)\n",
    "\n"
   ]
  },
  {
   "cell_type": "code",
   "execution_count": null,
   "metadata": {},
   "outputs": [],
   "source": [
    "try:\n",
    "    print(filename)\n",
    "    # load geoJSON file\n",
    "    with open(geoJSON_path+'\\\\'+filename) as fa:\n",
    "        geoJSON = json.load(fa)\n",
    "        \n",
    "    coords = geoJSON['features'][0]['geometry']['coordinates']\n",
    "    aoi = ee.Geometry.Polygon(coords)\n",
    "    \n",
    "\n",
    "    idx = int(np.where(date_info[\"fid2\"] == json_fid)[0])\n",
    "    date_event = datetime(date_info[\"YYYY\"][idx], date_info[\"MM\"][idx], date_info[\"DD\"][idx])\n",
    "    startDATE, endDATE, orbitchosen = getDATES(aoi, date_event)\n",
    "    \n",
    "    im_coll = (ee.ImageCollection('COPERNICUS/S1_GRD_FLOAT')\n",
    "                .filterBounds(aoi)\n",
    "                .filterDate(ee.Date(startDATE),ee.Date(endDATE+timedelta(days=1)))\n",
    "                .filter(ee.Filter.eq('orbitProperties_pass', 'ASCENDING'))\n",
    "                .filter(ee.Filter.eq('relativeOrbitNumber_start', orbitchosen))\n",
    "                .sort('system:time_start')) \n",
    "    \n",
    "    im_list = im_coll.toList(im_coll.size())\n",
    "    acq_times = im_coll.aggregate_array('system:time_start').getInfo()\n",
    "    \n",
    "    im1 = ee.Image(im_list.get(0)).select('VV').clip(aoi)\n",
    "    im2 = ee.Image(im_list.get(-1)).select('VV').clip(aoi)\n",
    "    ratio = im1.divide(im2)\n",
    "\n",
    "    region = aoi.toGeoJSONString()#region must in JSON format\n",
    "    path = downloader(ratio,region)#call function\n",
    "    newfile = str('ratio_fid2_'+str(json_fid)+'_'+'orbit'+str(orbitchosen)+'_'+\n",
    "                (time.strftime('%x', time.gmtime(acq_times[0]/1000))).replace(\"/\",\"\")+'_'+\n",
    "                (time.strftime('%x', time.gmtime(acq_times[-1]/1000))).replace(\"/\",\"\")+\".zip\")\n",
    "    t0 = time.time()\n",
    "    result = download_url(path, newfile)\n",
    "    print('url:', result[0], 'time:', result[1])\n",
    "    \n",
    "    path = downloader(im1,region)#call function\n",
    "    newfile = str('im1_fid2_'+str(json_fid)+'_'+'orbit'+str(orbitchosen)+'_'+\n",
    "                (time.strftime('%x', time.gmtime(acq_times[0]/1000))).replace(\"/\",\"\")+'_'+\n",
    "                (time.strftime('%x', time.gmtime(acq_times[-1]/1000))).replace(\"/\",\"\")+\".zip\")\n",
    "    t0 = time.time()\n",
    "    result = download_url(path, newfile)\n",
    "    print('url:', result[0], 'time:', result[1])\n",
    "    \n",
    "    path = downloader(im2,region)#call function\n",
    "    newfile = str('im2_fid2_'+str(json_fid)+'_'+'orbit'+str(orbitchosen)+'_'+\n",
    "                (time.strftime('%x', time.gmtime(acq_times[0]/1000))).replace(\"/\",\"\")+'_'+\n",
    "                (time.strftime('%x', time.gmtime(acq_times[-1]/1000))).replace(\"/\",\"\")+\".zip\")\n",
    "    t0 = time.time()\n",
    "    result = download_url(path, newfile)\n",
    "    print('url:', result[0], 'time:', result[1])\n",
    "except:\n",
    "    pass\n",
    "print('Total time:', time.time() - t0)"
   ]
  },
  {
   "cell_type": "code",
   "execution_count": null,
   "metadata": {},
   "outputs": [],
   "source": [
    "t0 = time.time()\n",
    "from datetime import datetime\n",
    "from time import mktime\n",
    "for filename in os.listdir(geoJSON_path):\n",
    "    json_fid = int(filename[:-9])\n",
    "    if json_fid in df_sample_fid.values:\n",
    "        try:\n",
    "            print(filename)\n",
    "            # load geoJSON file\n",
    "            with open(geoJSON_path+'\\\\'+filename) as fa:\n",
    "                geoJSON = json.load(fa)\n",
    "                \n",
    "            coords = geoJSON['features'][0]['geometry']['coordinates']\n",
    "            aoi = ee.Geometry.Polygon(coords)\n",
    "            \n",
    "        \n",
    "            idx = int(np.where(date_info[\"fid2\"] == json_fid)[0])\n",
    "            date_event = datetime(date_info[\"YYYY\"][idx], date_info[\"MM\"][idx], date_info[\"DD\"][idx])\n",
    "            startDATE, endDATE, orbitchosen = getDATES(aoi, date_event)\n",
    "            \n",
    "            im_coll = (ee.ImageCollection('COPERNICUS/S1_GRD_FLOAT')\n",
    "                        .filterBounds(aoi)\n",
    "                        .filterDate(ee.Date(startDATE),ee.Date(endDATE+timedelta(days=1)))\n",
    "                        .filter(ee.Filter.eq('orbitProperties_pass', 'ASCENDING'))\n",
    "                        .filter(ee.Filter.eq('relativeOrbitNumber_start', orbitchosen))\n",
    "                        .sort('system:time_start')) \n",
    "            \n",
    "            im_list = im_coll.toList(im_coll.size())\n",
    "            acq_times = im_coll.aggregate_array('system:time_start').getInfo()\n",
    "            \n",
    "            im1 = ee.Image(im_list.get(0)).select('VV').clip(aoi)\n",
    "            im2 = ee.Image(im_list.get(-1)).select('VV').clip(aoi)\n",
    "            ratio = im1.divide(im2)\n",
    "\n",
    "            region = aoi.toGeoJSONString()#region must in JSON format\n",
    "            path = downloader(ratio,region)#call function\n",
    "            newfile = str('ratio_fid2_'+str(json_fid)+'_'+'orbit'+str(orbitchosen)+'_'+\n",
    "                        (time.strftime('%x', time.gmtime(acq_times[0]/1000))).replace(\"/\",\"\")+'_'+\n",
    "                        (time.strftime('%x', time.gmtime(acq_times[-1]/1000))).replace(\"/\",\"\")+\".zip\")\n",
    "            t0 = time.time()\n",
    "            result = download_url(path, newfile)\n",
    "            print('url:', result[0], 'time:', result[1])\n",
    "            \n",
    "            path = downloader(im1,region)#call function\n",
    "            newfile = str('im1_fid2_'+str(json_fid)+'_'+'orbit'+str(orbitchosen)+'_'+\n",
    "                        (time.strftime('%x', time.gmtime(acq_times[0]/1000))).replace(\"/\",\"\")+'_'+\n",
    "                        (time.strftime('%x', time.gmtime(acq_times[-1]/1000))).replace(\"/\",\"\")+\".zip\")\n",
    "            t0 = time.time()\n",
    "            result = download_url(path, newfile)\n",
    "            print('url:', result[0], 'time:', result[1])\n",
    "            \n",
    "            path = downloader(im2,region)#call function\n",
    "            newfile = str('im2_fid2_'+str(json_fid)+'_'+'orbit'+str(orbitchosen)+'_'+\n",
    "                        (time.strftime('%x', time.gmtime(acq_times[0]/1000))).replace(\"/\",\"\")+'_'+\n",
    "                        (time.strftime('%x', time.gmtime(acq_times[-1]/1000))).replace(\"/\",\"\")+\".zip\")\n",
    "            t0 = time.time()\n",
    "            result = download_url(path, newfile)\n",
    "            print('url:', result[0], 'time:', result[1])\n",
    "        except:\n",
    "            pass\n",
    "print('Total time:', time.time() - t0)"
   ]
  }
 ],
 "metadata": {
  "kernelspec": {
   "display_name": "gee",
   "language": "python",
   "name": "python3"
  },
  "language_info": {
   "codemirror_mode": {
    "name": "ipython",
    "version": 3
   },
   "file_extension": ".py",
   "mimetype": "text/x-python",
   "name": "python",
   "nbconvert_exporter": "python",
   "pygments_lexer": "ipython3",
   "version": "3.11.6"
  }
 },
 "nbformat": 4,
 "nbformat_minor": 2
}
