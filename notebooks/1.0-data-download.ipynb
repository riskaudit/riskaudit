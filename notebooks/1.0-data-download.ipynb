{
 "cells": [
  {
   "cell_type": "markdown",
   "metadata": {},
   "source": [
    "# Data Download\n",
    "Date Created: 2023-10-31"
   ]
  },
  {
   "cell_type": "code",
   "execution_count": 1,
   "metadata": {},
   "outputs": [
    {
     "data": {
      "text/html": [
       "<p>To authorize access needed by Earth Engine, open the following\n",
       "        URL in a web browser and follow the instructions:</p>\n",
       "        <p><a href=https://code.earthengine.google.com/client-auth?scopes=https%3A//www.googleapis.com/auth/earthengine%20https%3A//www.googleapis.com/auth/devstorage.full_control&request_id=AYfI_DLc8FsN2cD95O6Rkk-saSXkqJbt4MfQAfogAxs&tc=qlQBJ_8z5xF7G7uFho1tmnx8_SmsKvQtzP85CvZE7FM&cc=YdUJoVeUK9USkhsLMgvGUqmPFVmck9yvFysvpQa5oxE>https://code.earthengine.google.com/client-auth?scopes=https%3A//www.googleapis.com/auth/earthengine%20https%3A//www.googleapis.com/auth/devstorage.full_control&request_id=AYfI_DLc8FsN2cD95O6Rkk-saSXkqJbt4MfQAfogAxs&tc=qlQBJ_8z5xF7G7uFho1tmnx8_SmsKvQtzP85CvZE7FM&cc=YdUJoVeUK9USkhsLMgvGUqmPFVmck9yvFysvpQa5oxE</a></p>\n",
       "        <p>The authorization workflow will generate a code, which you should paste in the box below.</p>\n",
       "        "
      ],
      "text/plain": [
       "<IPython.core.display.HTML object>"
      ]
     },
     "metadata": {},
     "output_type": "display_data"
    },
    {
     "name": "stdout",
     "output_type": "stream",
     "text": [
      "\n",
      "Successfully saved authorization token.\n"
     ]
    }
   ],
   "source": [
    "import ee\n",
    "\n",
    "# Trigger the authentication flow.\n",
    "ee.Authenticate()\n",
    "\n",
    "# Initialize the library.\n",
    "ee.Initialize()"
   ]
  },
  {
   "cell_type": "code",
   "execution_count": 2,
   "metadata": {},
   "outputs": [],
   "source": [
    "import geemap"
   ]
  },
  {
   "cell_type": "markdown",
   "metadata": {},
   "source": [
    "## [Dynamic World V1](https://developers.google.com/earth-engine/datasets/catalog/GOOGLE_DYNAMICWORLD_V1)"
   ]
  },
  {
   "cell_type": "code",
   "execution_count": 5,
   "metadata": {},
   "outputs": [
    {
     "data": {
      "text/html": [
       "\n",
       "            <style>\n",
       "                .geemap-dark {\n",
       "                    --jp-widgets-color: white;\n",
       "                    --jp-widgets-label-color: white;\n",
       "                    --jp-ui-font-color1: white;\n",
       "                    --jp-layout-color2: #454545;\n",
       "                    background-color: #383838;\n",
       "                }\n",
       "                    \n",
       "                .geemap-dark .jupyter-button {\n",
       "                    --jp-layout-color3: #383838;\n",
       "                }\n",
       "                \n",
       "                .geemap-colab {\n",
       "                    background-color: var(--colab-primary-surface-color, white);\n",
       "                }\n",
       "                    \n",
       "                .geemap-colab .jupyter-button {\n",
       "                    --jp-layout-color3: var(--colab-primary-surface-color, white);\n",
       "                }\n",
       "            </style>\n",
       "            "
      ],
      "text/plain": [
       "<IPython.core.display.HTML object>"
      ]
     },
     "metadata": {},
     "output_type": "display_data"
    },
    {
     "data": {
      "application/vnd.jupyter.widget-view+json": {
       "model_id": "7ecb57b3078e4fd1b2de9ca20e014536",
       "version_major": 2,
       "version_minor": 0
      },
      "text/plain": [
       "Map(center=[14.676, 121.0437], controls=(WidgetControl(options=['position', 'transparent_bg'], widget=SearchDa…"
      ]
     },
     "execution_count": 5,
     "metadata": {},
     "output_type": "execute_result"
    }
   ],
   "source": [
    "# Construct a collection of corresponding Dynamic World and Sentinel-2 for\n",
    "# inspection. Filter the DW and S2 collections by region and date.\n",
    "START = ee.Date('2021-04-02')\n",
    "END = START.advance(100, 'day')\n",
    "\n",
    "col_filter = ee.Filter.And(\n",
    "    ee.Filter.bounds(ee.Geometry.Point(121.0437, 14.6760)),\n",
    "    ee.Filter.date(START, END),\n",
    ")\n",
    "\n",
    "dw_col = ee.ImageCollection('GOOGLE/DYNAMICWORLD/V1').filter(col_filter)\n",
    "s2_col = ee.ImageCollection('COPERNICUS/S2').filter(col_filter)\n",
    "\n",
    "# Join corresponding DW and S2 images (by system:index).\n",
    "dw_s2_col = ee.Join.saveFirst('s2_img').apply(\n",
    "    dw_col,\n",
    "    s2_col,\n",
    "    ee.Filter.equals(leftField='system:index', rightField='system:index'),\n",
    ")\n",
    "\n",
    "# Extract an example DW image and its source S2 image.\n",
    "dw_image = ee.Image(dw_s2_col.first())\n",
    "s2_image = ee.Image(dw_image.get('s2_img'))\n",
    "\n",
    "# Create a visualization that blends DW class label with probability.\n",
    "# Define list pairs of DW LULC label and color.\n",
    "CLASS_NAMES = [\n",
    "    'water',\n",
    "    'trees',\n",
    "    'grass',\n",
    "    'flooded_vegetation',\n",
    "    'crops',\n",
    "    'shrub_and_scrub',\n",
    "    'built',\n",
    "    'bare',\n",
    "    'snow_and_ice',\n",
    "]\n",
    "\n",
    "VIS_PALETTE = [\n",
    "    '419bdf',\n",
    "    '397d49',\n",
    "    '88b053',\n",
    "    '7a87c6',\n",
    "    'e49635',\n",
    "    'dfc35a',\n",
    "    'c4281b',\n",
    "    'a59b8f',\n",
    "    'b39fe1',\n",
    "]\n",
    "\n",
    "# Create an RGB image of the label (most likely class) on [0, 1].\n",
    "dw_rgb = (\n",
    "    dw_image.select('label')\n",
    "    .visualize(min=0, max=8, palette=VIS_PALETTE)\n",
    "    .divide(255)\n",
    ")\n",
    "\n",
    "# Get the most likely class probability.\n",
    "top1_prob = dw_image.select(CLASS_NAMES).reduce(ee.Reducer.max())\n",
    "\n",
    "# Create a hillshade of the most likely class probability on [0, 1]\n",
    "top1_prob_hillshade = ee.Terrain.hillshade(top1_prob.multiply(100)).divide(255)\n",
    "\n",
    "# Combine the RGB image with the hillshade.\n",
    "dw_rgb_hillshade = dw_rgb.multiply(top1_prob_hillshade)\n",
    "\n",
    "# Display the Dynamic World visualization with the source Sentinel-2 image.\n",
    "m = geemap.Map()\n",
    "m.set_center(121.0437, 14.6760, 12)\n",
    "m.add_layer(\n",
    "    s2_image,\n",
    "    {'min': 0, 'max': 3000, 'bands': ['B4', 'B3', 'B2']},\n",
    "    'Sentinel-2 L1C',\n",
    ")\n",
    "m.add_layer(\n",
    "    dw_rgb_hillshade,\n",
    "    {'min': 0, 'max': 0.65},\n",
    "    'Dynamic World V1 - label hillshade',\n",
    ")\n",
    "m"
   ]
  },
  {
   "cell_type": "markdown",
   "metadata": {},
   "source": [
    "## [Sentinel-1 SAR GRD: C-band Synthetic Aperture Radar](https://developers.google.com/earth-engine/datasets/catalog/COPERNICUS_S1_GRD)"
   ]
  },
  {
   "cell_type": "code",
   "execution_count": 1,
   "metadata": {},
   "outputs": [
    {
     "data": {
      "text/html": [
       "<p>To authorize access needed by Earth Engine, open the following\n",
       "        URL in a web browser and follow the instructions:</p>\n",
       "        <p><a href=https://code.earthengine.google.com/client-auth?scopes=https%3A//www.googleapis.com/auth/earthengine%20https%3A//www.googleapis.com/auth/devstorage.full_control&request_id=T8xulY98vBHN9Bi4eaBKlFXBSxwm0t_CHHcBNjbitdM&tc=jGWSSkoqkt-DFq8HbsRCBbktXwx4ddao3y_PBFIVnhY&cc=CAEASuw9cXDPO05Ciz5OSjLPLnCO2_0mhB6SM5YjhaI>https://code.earthengine.google.com/client-auth?scopes=https%3A//www.googleapis.com/auth/earthengine%20https%3A//www.googleapis.com/auth/devstorage.full_control&request_id=T8xulY98vBHN9Bi4eaBKlFXBSxwm0t_CHHcBNjbitdM&tc=jGWSSkoqkt-DFq8HbsRCBbktXwx4ddao3y_PBFIVnhY&cc=CAEASuw9cXDPO05Ciz5OSjLPLnCO2_0mhB6SM5YjhaI</a></p>\n",
       "        <p>The authorization workflow will generate a code, which you should paste in the box below.</p>\n",
       "        "
      ],
      "text/plain": [
       "<IPython.core.display.HTML object>"
      ]
     },
     "metadata": {},
     "output_type": "display_data"
    },
    {
     "name": "stdout",
     "output_type": "stream",
     "text": [
      "\n",
      "Successfully saved authorization token.\n"
     ]
    }
   ],
   "source": [
    "import ee\n",
    "\n",
    "# Trigger the authentication flow.\n",
    "ee.Authenticate()\n",
    "\n",
    "# Initialize the library.\n",
    "ee.Initialize()"
   ]
  },
  {
   "cell_type": "code",
   "execution_count": 3,
   "metadata": {},
   "outputs": [],
   "source": [
    "import geemap"
   ]
  },
  {
   "cell_type": "code",
   "execution_count": 1,
   "metadata": {},
   "outputs": [],
   "source": [
    "import matplotlib.pyplot as plt\n",
    "import numpy as np\n",
    "from scipy.stats import norm, gamma, f, chi2\n",
    "import pandas as pd\n",
    "import IPython.display as disp\n",
    "import json\n",
    "import csv \n",
    "import os\n",
    "import datetime\n",
    "import requests\n",
    "from datetime import datetime\n",
    "from datetime import timedelta\n",
    "import time\n",
    "%matplotlib inline"
   ]
  },
  {
   "cell_type": "code",
   "execution_count": 3,
   "metadata": {},
   "outputs": [],
   "source": [
    "geoJSON_path = \"data\\\\raw\\\\Sentinel1\\\\geojson\"\n",
    "output_path = \"r'data\\\\raw\\\\Sentinel1\\\\images\""
   ]
  },
  {
   "cell_type": "code",
   "execution_count": 4,
   "metadata": {},
   "outputs": [],
   "source": [
    "#create function to download the image or imagecollection as you desire\n",
    "def downloader(ee_object,region): \n",
    "    try:\n",
    "        #download image\n",
    "        if isinstance(ee_object, ee.image.Image):\n",
    "            print('Its Image')\n",
    "            url = ee_object.getDownloadUrl({\n",
    "                    'scale': 10,\n",
    "                    'crs': 'EPSG:4326',\n",
    "                    'region': region\n",
    "                })\n",
    "            return url\n",
    "        \n",
    "        #download imagecollection\n",
    "        elif isinstance(ee_object, ee.imagecollection.ImageCollection):\n",
    "            print('Its ImageCollection')\n",
    "            ee_object_new = ee_object.mosaic()\n",
    "            url = ee_object_new.getDownloadUrl({\n",
    "                    'scale': 10,\n",
    "                    'crs': 'EPSG:4326',\n",
    "                    'region': region\n",
    "                })\n",
    "            return url\n",
    "    except:\n",
    "        print(\"Could not download\")"
   ]
  },
  {
   "cell_type": "code",
   "execution_count": 6,
   "metadata": {},
   "outputs": [],
   "source": [
    "def getDATES(aoi, date_event):\n",
    "    \n",
    "    n = 175\n",
    "    output = []\n",
    "    for i in range(1, n+1):\n",
    "        output.append(i)\n",
    "    multiple = 120 #1/3 of a year\n",
    "    \n",
    "    for iend in range(1,100):\n",
    "        # print(iend*multiple)\n",
    "        im_coll = (ee.ImageCollection('COPERNICUS/S1_GRD_FLOAT')\n",
    "                    .filterBounds(aoi)\n",
    "                    .filterDate(ee.Date(date_event+timedelta(days=1)),ee.Date(date_event+timedelta(days=iend*multiple)))\n",
    "                    .filter(ee.Filter.eq('orbitProperties_pass', 'ASCENDING'))\n",
    "                    .filter(ee.Filter.inList('relativeOrbitNumber_start', output))\n",
    "                    .sort('system:time_start'))\n",
    "        acq_times_end = im_coll.aggregate_array('system:time_start').getInfo()\n",
    "        orbitN = im_coll.aggregate_array('relativeOrbitNumber_start').getInfo()\n",
    "        if len(acq_times_end) > 1:\n",
    "            endDATE = datetime.fromtimestamp(mktime(time.gmtime(acq_times_end[0]/1000)))\n",
    "            orbitchosen = orbitN[0]\n",
    "            break\n",
    "    \n",
    "    for istart in range(1,100):\n",
    "        # print(istart*multiple)\n",
    "        im_coll = (ee.ImageCollection('COPERNICUS/S1_GRD_FLOAT')\n",
    "                    .filterBounds(aoi)\n",
    "                    .filterDate(ee.Date(date_event-timedelta(days=istart*multiple)),ee.Date(date_event-timedelta(days=1)))\n",
    "                    .filter(ee.Filter.eq('orbitProperties_pass', 'ASCENDING'))\n",
    "                    .filter(ee.Filter.eq('relativeOrbitNumber_start', orbitchosen))\n",
    "                    .sort('system:time_start'))\n",
    "        acq_times_start = im_coll.aggregate_array('system:time_start').getInfo()\n",
    "        if len(acq_times_start) > 1:\n",
    "            startDATE = datetime.fromtimestamp(mktime(time.gmtime(acq_times_start[-1]/1000)))\n",
    "            break\n",
    "\n",
    "    return startDATE, endDATE, orbitchosen"
   ]
  },
  {
   "cell_type": "code",
   "execution_count": 7,
   "metadata": {},
   "outputs": [],
   "source": [
    "def download_url(path, newfile):\n",
    "    t0 = time.time()\n",
    "    url = path\n",
    "    fn = newfile\n",
    "    try:\n",
    "        r = requests.get(url)\n",
    "        with open(fn, 'wb') as f:\n",
    "            f.write(r.content)\n",
    "        return(url, time.time() - t0)\n",
    "    except Exception as e:\n",
    "        print('Exception in download_url():', e)"
   ]
  },
  {
   "cell_type": "code",
   "execution_count": null,
   "metadata": {},
   "outputs": [],
   "source": [
    "t0 = time.time()\n",
    "from datetime import datetime\n",
    "from time import mktime\n",
    "for filename in os.listdir(geoJSON_path):\n",
    "    json_fid = int(filename[:-9])\n",
    "    if json_fid in df_sample_fid.values:\n",
    "        try:\n",
    "            print(filename)\n",
    "            # load geoJSON file\n",
    "            with open(geoJSON_path+'\\\\'+filename) as fa:\n",
    "                geoJSON = json.load(fa)\n",
    "                \n",
    "            coords = geoJSON['features'][0]['geometry']['coordinates']\n",
    "            aoi = ee.Geometry.Polygon(coords)\n",
    "            \n",
    "        \n",
    "            idx = int(np.where(date_info[\"fid2\"] == json_fid)[0])\n",
    "            date_event = datetime(date_info[\"YYYY\"][idx], date_info[\"MM\"][idx], date_info[\"DD\"][idx])\n",
    "            startDATE, endDATE, orbitchosen = getDATES(aoi, date_event)\n",
    "            \n",
    "            im_coll = (ee.ImageCollection('COPERNICUS/S1_GRD_FLOAT')\n",
    "                        .filterBounds(aoi)\n",
    "                        .filterDate(ee.Date(startDATE),ee.Date(endDATE+timedelta(days=1)))\n",
    "                        .filter(ee.Filter.eq('orbitProperties_pass', 'ASCENDING'))\n",
    "                        .filter(ee.Filter.eq('relativeOrbitNumber_start', orbitchosen))\n",
    "                        .sort('system:time_start')) \n",
    "            \n",
    "            im_list = im_coll.toList(im_coll.size())\n",
    "            acq_times = im_coll.aggregate_array('system:time_start').getInfo()\n",
    "            \n",
    "            im1 = ee.Image(im_list.get(0)).select('VV').clip(aoi)\n",
    "            im2 = ee.Image(im_list.get(-1)).select('VV').clip(aoi)\n",
    "            ratio = im1.divide(im2)\n",
    "\n",
    "            region = aoi.toGeoJSONString()#region must in JSON format\n",
    "            path = downloader(ratio,region)#call function\n",
    "            newfile = str('ratio_fid2_'+str(json_fid)+'_'+'orbit'+str(orbitchosen)+'_'+\n",
    "                        (time.strftime('%x', time.gmtime(acq_times[0]/1000))).replace(\"/\",\"\")+'_'+\n",
    "                        (time.strftime('%x', time.gmtime(acq_times[-1]/1000))).replace(\"/\",\"\")+\".zip\")\n",
    "            t0 = time.time()\n",
    "            result = download_url(path, newfile)\n",
    "            print('url:', result[0], 'time:', result[1])\n",
    "            \n",
    "            path = downloader(im1,region)#call function\n",
    "            newfile = str('im1_fid2_'+str(json_fid)+'_'+'orbit'+str(orbitchosen)+'_'+\n",
    "                        (time.strftime('%x', time.gmtime(acq_times[0]/1000))).replace(\"/\",\"\")+'_'+\n",
    "                        (time.strftime('%x', time.gmtime(acq_times[-1]/1000))).replace(\"/\",\"\")+\".zip\")\n",
    "            t0 = time.time()\n",
    "            result = download_url(path, newfile)\n",
    "            print('url:', result[0], 'time:', result[1])\n",
    "            \n",
    "            path = downloader(im2,region)#call function\n",
    "            newfile = str('im2_fid2_'+str(json_fid)+'_'+'orbit'+str(orbitchosen)+'_'+\n",
    "                        (time.strftime('%x', time.gmtime(acq_times[0]/1000))).replace(\"/\",\"\")+'_'+\n",
    "                        (time.strftime('%x', time.gmtime(acq_times[-1]/1000))).replace(\"/\",\"\")+\".zip\")\n",
    "            t0 = time.time()\n",
    "            result = download_url(path, newfile)\n",
    "            print('url:', result[0], 'time:', result[1])\n",
    "        except:\n",
    "            pass\n",
    "print('Total time:', time.time() - t0)"
   ]
  }
 ],
 "metadata": {
  "kernelspec": {
   "display_name": "gee",
   "language": "python",
   "name": "python3"
  },
  "language_info": {
   "codemirror_mode": {
    "name": "ipython",
    "version": 3
   },
   "file_extension": ".py",
   "mimetype": "text/x-python",
   "name": "python",
   "nbconvert_exporter": "python",
   "pygments_lexer": "ipython3",
   "version": "3.11.6"
  }
 },
 "nbformat": 4,
 "nbformat_minor": 2
}
