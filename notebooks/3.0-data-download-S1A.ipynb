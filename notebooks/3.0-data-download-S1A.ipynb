{
 "cells": [
  {
   "cell_type": "code",
   "execution_count": 1,
   "metadata": {},
   "outputs": [],
   "source": [
    "import requests\n",
    "import time\n",
    "from multiprocessing import cpu_count\n",
    "from multiprocessing.pool import ThreadPool"
   ]
  },
  {
   "cell_type": "code",
   "execution_count": 8,
   "metadata": {},
   "outputs": [],
   "source": [
    "filename = \"C:\\\\Users\\\\admin\\\\Desktop\\\\GitHub\\\\riskaudit\\\\data\\\\raw\\\\Sentinel1\\\\4131669243-download.txt\"\n",
    "with open(filename) as file:\n",
    "    urls = [line.rstrip() for line in file]\n",
    "fns = [\"C:\\\\Users\\\\admin\\\\Desktop\\\\GitHub\\\\riskaudit\\\\data\\\\raw\\\\Sentinel1\\\\images\\\\\"+x[-71:] for x in urls]"
   ]
  },
  {
   "cell_type": "code",
   "execution_count": 9,
   "metadata": {},
   "outputs": [],
   "source": [
    "inputs = zip(urls, fns)"
   ]
  },
  {
   "cell_type": "code",
   "execution_count": 10,
   "metadata": {},
   "outputs": [],
   "source": [
    "def download_url(args):\n",
    "    t0 = time.time()\n",
    "    url, fn = args[0], args[1]\n",
    "    try:\n",
    "        r = requests.get(url)\n",
    "        with open(fn, 'wb') as f:\n",
    "            f.write(r.content)\n",
    "        return(url, time.time() - t0)\n",
    "    except Exception as e:\n",
    "        print('Exception in download_url():', e)"
   ]
  },
  {
   "cell_type": "code",
   "execution_count": null,
   "metadata": {},
   "outputs": [],
   "source": [
    "t0 = time.time()\n",
    "for i in inputs:\n",
    "    result = download_url(i)\n",
    "    print('url:', result[0], 'time:', result[1])\n",
    "print('Total time:', time.time() - t0)"
   ]
  }
 ],
 "metadata": {
  "kernelspec": {
   "display_name": "base",
   "language": "python",
   "name": "python3"
  },
  "language_info": {
   "codemirror_mode": {
    "name": "ipython",
    "version": 3
   },
   "file_extension": ".py",
   "mimetype": "text/x-python",
   "name": "python",
   "nbconvert_exporter": "python",
   "pygments_lexer": "ipython3",
   "version": "3.11.6"
  },
  "orig_nbformat": 4
 },
 "nbformat": 4,
 "nbformat_minor": 2
}
