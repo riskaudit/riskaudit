{
 "cells": [
  {
   "cell_type": "code",
   "execution_count": 1,
   "metadata": {},
   "outputs": [],
   "source": [
    "import json\n",
    "from os import listdir\n",
    "from os.path import isfile, join\n",
    " \n",
    " # ascending\n",
    "# input_path = \"E:/riskaudit/raw/Sentinel1/images/phlqc/ascending\"\n",
    "# output_path = \"C:/Users/admin/Desktop/GitHub/riskaudit/data/raw/Sentinel1/phlqc/ascending\"\n",
    "# output_jsonfilename = \"C:/Users/admin/Desktop/GitHub/riskaudit/notebooks/sentinel1_phlqc_ascending_clipped.json\"\n",
    "\n",
    " # descending\n",
    "input_path = \"E:/riskaudit/raw/Sentinel1/images/phlqc/descending\"\n",
    "output_path = \"C:/Users/admin/Desktop/GitHub/riskaudit/data/raw/Sentinel1/phlqc/descending\"\n",
    "output_jsonfilename = \"C:/Users/admin/Desktop/GitHub/riskaudit/notebooks/sentinel1_phlqc_descending_clipped.json\"\n",
    "\n",
    "onlyfiles = [f for f in listdir(input_path) if isfile(join(input_path, f))]"
   ]
  },
  {
   "cell_type": "code",
   "execution_count": 2,
   "metadata": {},
   "outputs": [],
   "source": [
    "# initialize dictionary\n",
    "dictionary = {\n",
    "        \"PARAMETERS\": {\n",
    "            \"INPUT\": \"'C:/Users/admin/Desktop/s1a-iw-grd-vh-20200117t100630-20200117t100706-030839-0389d0-002.tiff'\",\n",
    "            \"MASK\": \"'C:/Users/admin/Desktop/GitHub/riskaudit/data/raw/HLS_landsat/Layer Extent/phl_qc_layer_extent.geojson'\",\n",
    "            \"SOURCE_CRS\": \"None\",\n",
    "            \"TARGET_CRS\": \"None\",\n",
    "            \"TARGET_EXTENT\": \"None\",\n",
    "            \"NODATA\": \"None\",\n",
    "            \"ALPHA_BAND\": \"False\",\n",
    "            \"CROP_TO_CUTLINE\": \"True\",\n",
    "            \"KEEP_RESOLUTION\": \"True\",\n",
    "            \"SET_RESOLUTION\": \"False\",\n",
    "            \"X_RESOLUTION\": \"None\",\n",
    "            \"Y_RESOLUTION\": \"None\",\n",
    "            \"MULTITHREADING\": \"False\",\n",
    "            \"OPTIONS\": \"''\",\n",
    "            \"DATA_TYPE\": \"0\",\n",
    "            \"EXTRA\": \"''\"},\n",
    "        \"OUTPUTS\": {\n",
    "            \"OUTPUT\": \"C:/Users/admin/Desktop/aa1.tif\"}\n",
    "            }"
   ]
  },
  {
   "cell_type": "code",
   "execution_count": 3,
   "metadata": {},
   "outputs": [],
   "source": [
    "# Writing to sample.json\n",
    "with open(output_jsonfilename, \"w\") as outfile:\n",
    "    for j in range(len(onlyfiles)):\n",
    "        dictionary[\"PARAMETERS\"][\"INPUT\"] = '\"' + input_path + \"/\" + onlyfiles[j] + '\"'\n",
    "        dictionary[\"OUTPUTS\"][\"OUTPUT\"] = output_path + \"/\" + onlyfiles[j][:-5] + \"_clipped.tiff\"\n",
    "        json_object = json.dumps(dictionary, indent=4)\n",
    "        outfile.write(json_object)"
   ]
  },
  {
   "cell_type": "code",
   "execution_count": 4,
   "metadata": {},
   "outputs": [],
   "source": [
    "# Fix to make a valid json file\n",
    "def comma_json():\n",
    "    with open(output_jsonfilename, \"r+\") as f:\n",
    "        old = f.read()\n",
    "        f.seek(0)  # rewind\n",
    "        f.write(old.replace('}{', '},{'))\n",
    "        f.close\n",
    "def structure_json():\n",
    "    with open(output_jsonfilename, \"r+\") as f:\n",
    "        old = f.read()\n",
    "    with open(output_jsonfilename, \"w\") as r:\n",
    "        tmps = '[' + str(old) + ']'\n",
    "        json_string = json.loads(tmps)\n",
    "        json.dump(json_string, r, indent=2)\n",
    "        f.close\n",
    "comma_json()\n",
    "structure_json()"
   ]
  }
 ],
 "metadata": {
  "kernelspec": {
   "display_name": "Python 3",
   "language": "python",
   "name": "python3"
  },
  "language_info": {
   "codemirror_mode": {
    "name": "ipython",
    "version": 3
   },
   "file_extension": ".py",
   "mimetype": "text/x-python",
   "name": "python",
   "nbconvert_exporter": "python",
   "pygments_lexer": "ipython3",
   "version": "3.11.6"
  }
 },
 "nbformat": 4,
 "nbformat_minor": 2
}
