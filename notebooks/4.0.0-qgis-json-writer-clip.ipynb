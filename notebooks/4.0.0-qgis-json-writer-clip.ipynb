{
 "cells": [
  {
   "cell_type": "code",
   "execution_count": 17,
   "metadata": {},
   "outputs": [],
   "source": [
    "import json\n",
    "from os import listdir\n",
    "from os.path import isfile, join\n",
    " \n",
    " # s1 - ascending\n",
    "input_path = r\"C:/Users/admin/Desktop/GitHub/riskaudit/data/obsvariables/SENTINEL1-DUAL_POL_GRD_HIGH_RES/PHLQC/images/ascending\"\n",
    "output_path = r\"C:/Users/admin/Desktop/GitHub/riskaudit/data/obsvariables/SENTINEL1-DUAL_POL_GRD_HIGH_RES/PHLQC/clipped/ascending\"\n",
    "output_jsonfilename = r\"C:/Users/admin/Desktop/GitHub/riskaudit/notebooks//4.0.2-qgis-clipping-s1-ascending-phlqc.json\"\n",
    "\n",
    " # s1 - descending\n",
    "# input_path = r\"C:/Users/admin/Desktop/GitHub/riskaudit/data/obsvariables/SENTINEL1-DUAL_POL_GRD_HIGH_RES/PHLQC/images/descending\"\n",
    "# output_path = r\"C:/Users/admin/Desktop/GitHub/riskaudit/data/obsvariables/SENTINEL1-DUAL_POL_GRD_HIGH_RES/PHLQC/clipped/descending\"\n",
    "# output_jsonfilename = r\"C:/Users/admin/Desktop/GitHub/riskaudit/notebooks//4.0.3-qgis-clipping-s1-descending-phlqc.json\"\n",
    "\n",
    "# google earth pro\n",
    "# input_path = r\"C:/Users/admin/Desktop/GitHub/riskaudit/data/obsvariables/GOOGLE_EARTH/images\"\n",
    "# output_path = r\"C:/Users/admin/Desktop/GitHub/riskaudit/data/obsvariables/GOOGLE_EARTH/clipped\"\n",
    "# output_jsonfilename = r\"C:/Users/admin/Desktop/GitHub/riskaudit/notebooks//4.0.1-qgis-clipping-google-earth-pro-phlqc.json\"\n",
    "\n",
    "onlyfiles = [f for f in listdir(input_path) if isfile(join(input_path, f))]"
   ]
  },
  {
   "cell_type": "code",
   "execution_count": 18,
   "metadata": {},
   "outputs": [],
   "source": [
    "# initialize dictionary\n",
    "dictionary = {\"PARAMETERS\": \n",
    "        {\"INPUT\": \"'C:/Users/admin/Desktop/GitHub/riskaudit/data/obsvariables/GOOGLE_EARTH/images/PHLQC_2010_ALL_zoom_20.tif'\", \n",
    "        \"PROJWIN\": \"'121.053371666,121.067348657,14.704268796,14.723964257 [EPSG:4326]'\",  #northfairview\n",
    "        \"OVERCRS\": \"False\", \n",
    "        \"NODATA\": \"None\", \n",
    "        \"OPTIONS\": \"''\", \n",
    "        \"DATA_TYPE\": \"0\", \n",
    "        \"EXTRA\": \"''\"}, \n",
    "        \"OUTPUTS\": \n",
    "        {\"OUTPUT\": \"C:/Users/admin/Desktop/GitHub/riskaudit/data/obsvariables/GOOGLE_EARTH/clipped/a1.tif\"}\n",
    "    }"
   ]
  },
  {
   "cell_type": "code",
   "execution_count": 19,
   "metadata": {},
   "outputs": [],
   "source": [
    "# Writing to sample.json\n",
    "with open(output_jsonfilename, \"w\") as outfile:\n",
    "    for j in range(len(onlyfiles)):\n",
    "        dictionary[\"PARAMETERS\"][\"INPUT\"] = '\"' + input_path + \"/\" + onlyfiles[j] + '\"'\n",
    "        # dictionary[\"OUTPUTS\"][\"OUTPUT\"] = output_path + \"/\" + onlyfiles[j][:-4] + \"_clipped.tif\" \n",
    "        dictionary[\"OUTPUTS\"][\"OUTPUT\"] = output_path + \"/\" + onlyfiles[j][:-5] + \"_clipped.tif\"\n",
    "        json_object = json.dumps(dictionary, indent=4)\n",
    "        outfile.write(json_object)"
   ]
  },
  {
   "cell_type": "code",
   "execution_count": 20,
   "metadata": {},
   "outputs": [],
   "source": [
    "# Fix to make a valid json file\n",
    "def comma_json():\n",
    "    with open(output_jsonfilename, \"r+\") as f:\n",
    "        old = f.read()\n",
    "        f.seek(0)  # rewind\n",
    "        f.write(old.replace('}{', '},{'))\n",
    "        f.close\n",
    "def structure_json():\n",
    "    with open(output_jsonfilename, \"r+\") as f:\n",
    "        old = f.read()\n",
    "    with open(output_jsonfilename, \"w\") as r:\n",
    "        tmps = '[' + str(old) + ']'\n",
    "        json_string = json.loads(tmps)\n",
    "        json.dump(json_string, r, indent=2)\n",
    "        f.close\n",
    "comma_json()\n",
    "structure_json()"
   ]
  }
 ],
 "metadata": {
  "kernelspec": {
   "display_name": "Python 3",
   "language": "python",
   "name": "python3"
  },
  "language_info": {
   "codemirror_mode": {
    "name": "ipython",
    "version": 3
   },
   "file_extension": ".py",
   "mimetype": "text/x-python",
   "name": "python",
   "nbconvert_exporter": "python",
   "pygments_lexer": "ipython3",
   "version": "3.11.6"
  }
 },
 "nbformat": 4,
 "nbformat_minor": 2
}
