{
 "cells": [
  {
   "cell_type": "code",
   "execution_count": 2,
   "metadata": {},
   "outputs": [
    {
     "name": "stdout",
     "output_type": "stream",
     "text": [
      "{'token_type': 'Bearer', 'token': 'O8_6VdB2xpyC1iC0D_rqAlPde1u28l63lKEDCrVgFSIUJoxHi7l62XF8Aor4yTQA1gkCOVtEFfyoobRZIQ264g', 'expiration': '2023-11-09T09:27:30Z'}\n"
     ]
    }
   ],
   "source": [
    "import requests\n",
    "\n",
    "response = requests.post('https://appeears.earthdatacloud.nasa.gov/api/login', auth=('jtd33', 'Sct18627Hsc5689!'))\n",
    "token_response = response.json()\n",
    "print(token_response)"
   ]
  },
  {
   "cell_type": "code",
   "execution_count": 3,
   "metadata": {},
   "outputs": [],
   "source": [
    "token = token_response['token']\n",
    "task_id = '16760cff-b2a0-497e-bbed-64d1f35387eb' \n",
    "response = requests.get(\n",
    "    'https://appeears.earthdatacloud.nasa.gov/api/bundle/{0}'.format(task_id),  \n",
    "    headers={'Authorization': 'Bearer {0}'.format(token)}\n",
    ")\n",
    "bundle_response = response.json()"
   ]
  },
  {
   "cell_type": "code",
   "execution_count": 5,
   "metadata": {},
   "outputs": [],
   "source": [
    "import os\n",
    "token = token_response['token']"
   ]
  },
  {
   "cell_type": "code",
   "execution_count": 1,
   "metadata": {},
   "outputs": [
    {
     "ename": "NameError",
     "evalue": "name 'bundle_response' is not defined",
     "output_type": "error",
     "traceback": [
      "\u001b[1;31m---------------------------------------------------------------------------\u001b[0m",
      "\u001b[1;31mNameError\u001b[0m                                 Traceback (most recent call last)",
      "\u001b[1;32mc:\\Users\\admin\\Desktop\\GitHub\\riskaudit\\notebooks\\6.0-HLS-landsat-and-sentinel2.ipynb Cell 4\u001b[0m line \u001b[0;36m1\n\u001b[1;32m----> <a href='vscode-notebook-cell:/c%3A/Users/admin/Desktop/GitHub/riskaudit/notebooks/6.0-HLS-landsat-and-sentinel2.ipynb#W4sZmlsZQ%3D%3D?line=0'>1</a>\u001b[0m \u001b[39mfor\u001b[39;00m i \u001b[39min\u001b[39;00m \u001b[39mrange\u001b[39m(\u001b[39mlen\u001b[39m(bundle_response[\u001b[39m'\u001b[39m\u001b[39mfiles\u001b[39m\u001b[39m'\u001b[39m])\u001b[39m-\u001b[39m\u001b[39m1090\u001b[39m):\n\u001b[0;32m      <a href='vscode-notebook-cell:/c%3A/Users/admin/Desktop/GitHub/riskaudit/notebooks/6.0-HLS-landsat-and-sentinel2.ipynb#W4sZmlsZQ%3D%3D?line=1'>2</a>\u001b[0m     \u001b[39mprint\u001b[39m(i)\n\u001b[0;32m      <a href='vscode-notebook-cell:/c%3A/Users/admin/Desktop/GitHub/riskaudit/notebooks/6.0-HLS-landsat-and-sentinel2.ipynb#W4sZmlsZQ%3D%3D?line=2'>3</a>\u001b[0m     \u001b[39m# get a stream to the bundle file\u001b[39;00m\n",
      "\u001b[1;31mNameError\u001b[0m: name 'bundle_response' is not defined"
     ]
    }
   ],
   "source": [
    "for i in range(len(bundle_response['files'])-1090):\n",
    "    print(i)\n",
    "    # get a stream to the bundle file\n",
    "    file_id = bundle_response['files'][i]['file_id']\n",
    "    filename = bundle_response['files'][i]['file_name']\n",
    "    response = requests.get( \n",
    "        'https://appeears.earthdatacloud.nasa.gov/api/bundle/{0}/{1}'.format(task_id,file_id),  \n",
    "        headers={'Authorization': 'Bearer {0}'.format(token)}, \n",
    "        allow_redirects=True,\n",
    "        stream=True\n",
    "    ) \n",
    "\n",
    "    # create a destination directory to store the file in\n",
    "    dest_dir = \"C:\\\\Users\\\\admin\\\\Desktop\\\\GitHub\\\\riskaudit\\\\data\\\\raw\\\\HLS_landsat\"\n",
    "    filepath = os.path.join(dest_dir, filename)\n",
    "    os.makedirs(os.path.dirname(filepath), exist_ok=True)\n",
    "\n",
    "    # write the file to the destination directory\n",
    "    with open(filepath, 'wb') as f:\n",
    "        for data in response.iter_content(chunk_size=8192):\n",
    "            f.write(data)"
   ]
  }
 ],
 "metadata": {
  "kernelspec": {
   "display_name": "Python 3",
   "language": "python",
   "name": "python3"
  },
  "language_info": {
   "codemirror_mode": {
    "name": "ipython",
    "version": 3
   },
   "file_extension": ".py",
   "mimetype": "text/x-python",
   "name": "python",
   "nbconvert_exporter": "python",
   "pygments_lexer": "ipython3",
   "version": "3.11.6"
  }
 },
 "nbformat": 4,
 "nbformat_minor": 2
}
