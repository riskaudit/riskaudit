{
    "cells": [
        {
            "cell_type": "code",
            "execution_count": null,
            "metadata": {},
            "outputs": [],
            "source": [
                "# !pip install geemap"
            ]
        },
        {
            "cell_type": "code",
            "execution_count": 1,
            "metadata": {},
            "outputs": [],
            "source": [
                "import ee\n",
                "import geemap"
            ]
        },
        {
            "cell_type": "code",
            "execution_count": 11,
            "metadata": {},
            "outputs": [
                {
                    "data": {
                        "text/html": [
                            "\n",
                            "            <style>\n",
                            "                .geemap-dark {\n",
                            "                    --jp-widgets-color: white;\n",
                            "                    --jp-widgets-label-color: white;\n",
                            "                    --jp-ui-font-color1: white;\n",
                            "                    --jp-layout-color2: #454545;\n",
                            "                    background-color: #383838;\n",
                            "                }\n",
                            "                    \n",
                            "                .geemap-dark .jupyter-button {\n",
                            "                    --jp-layout-color3: #383838;\n",
                            "                }\n",
                            "                \n",
                            "                .geemap-colab {\n",
                            "                    background-color: var(--colab-primary-surface-color, white);\n",
                            "                }\n",
                            "                    \n",
                            "                .geemap-colab .jupyter-button {\n",
                            "                    --jp-layout-color3: var(--colab-primary-surface-color, white);\n",
                            "                }\n",
                            "            </style>\n",
                            "            "
                        ],
                        "text/plain": [
                            "<IPython.core.display.HTML object>"
                        ]
                    },
                    "metadata": {},
                    "output_type": "display_data"
                }
            ],
            "source": [
                "js_snippet = \"\"\"\n",
                "Map.centerObject(country,5);\n",
                "Map.addLayer(country,{},'Colombia');\n",
                "\"\"\""
            ]
        },
        {
            "cell_type": "code",
            "execution_count": 12,
            "metadata": {},
            "outputs": [
                {
                    "data": {
                        "text/html": [
                            "\n",
                            "            <style>\n",
                            "                .geemap-dark {\n",
                            "                    --jp-widgets-color: white;\n",
                            "                    --jp-widgets-label-color: white;\n",
                            "                    --jp-ui-font-color1: white;\n",
                            "                    --jp-layout-color2: #454545;\n",
                            "                    background-color: #383838;\n",
                            "                }\n",
                            "                    \n",
                            "                .geemap-dark .jupyter-button {\n",
                            "                    --jp-layout-color3: #383838;\n",
                            "                }\n",
                            "                \n",
                            "                .geemap-colab {\n",
                            "                    background-color: var(--colab-primary-surface-color, white);\n",
                            "                }\n",
                            "                    \n",
                            "                .geemap-colab .jupyter-button {\n",
                            "                    --jp-layout-color3: var(--colab-primary-surface-color, white);\n",
                            "                }\n",
                            "            </style>\n",
                            "            "
                        ],
                        "text/plain": [
                            "<IPython.core.display.HTML object>"
                        ]
                    },
                    "metadata": {},
                    "output_type": "display_data"
                }
            ],
            "source": [
                "geemap.js_snippet_to_py(\n",
                "    js_snippet, add_new_cell=True, import_ee=True, import_geemap=True, show_map=True\n",
                ")"
            ]
        },
        {
            "cell_type": "code",
            "execution_count": null,
            "id": "fd3cad9f",
            "metadata": {},
            "outputs": [],
            "source": [
                "import ee\n",
                "import geemap\n",
                "\n",
                "m = geemap.Map()\n",
                "import geemap\n",
                "\n",
                "m = geemap.Map()\n",
                "\n",
                "m.centerObject(country,5)\n",
                "m.addLayer(country,{},'Colombia')\n",
                "Map"
            ]
        },
        {
            "cell_type": "code",
            "execution_count": null,
            "id": "9100af70",
            "metadata": {},
            "outputs": [],
            "source": []
        }
    ],
    "metadata": {
        "kernelspec": {
            "display_name": "opensendaibench",
            "language": "python",
            "name": "opensendaibench"
        },
        "language_info": {
            "codemirror_mode": {
                "name": "ipython",
                "version": 3
            },
            "file_extension": ".py",
            "mimetype": "text/x-python",
            "name": "python",
            "nbconvert_exporter": "python",
            "pygments_lexer": "ipython3",
            "version": "3.11.0"
        }
    },
    "nbformat": 4,
    "nbformat_minor": 5
}
